{
 "cells": [
  {
   "cell_type": "code",
   "execution_count": 1,
   "id": "b81165fa",
   "metadata": {},
   "outputs": [],
   "source": [
    "import pandas as pd\n",
    "import windpy as wp"
   ]
  },
  {
   "cell_type": "code",
   "execution_count": 60,
   "id": "99ac8d44",
   "metadata": {
    "scrolled": true
   },
   "outputs": [
    {
     "data": {
      "text/html": [
       "<div>\n",
       "<style scoped>\n",
       "    .dataframe tbody tr th:only-of-type {\n",
       "        vertical-align: middle;\n",
       "    }\n",
       "\n",
       "    .dataframe tbody tr th {\n",
       "        vertical-align: top;\n",
       "    }\n",
       "\n",
       "    .dataframe thead th {\n",
       "        text-align: right;\n",
       "    }\n",
       "</style>\n",
       "<table border=\"1\" class=\"dataframe\">\n",
       "  <thead>\n",
       "    <tr style=\"text-align: right;\">\n",
       "      <th></th>\n",
       "      <th>level_0</th>\n",
       "      <th>Location Name</th>\n",
       "      <th>Coordinates</th>\n",
       "      <th>WMO</th>\n",
       "      <th>last_year</th>\n",
       "      <th>Country</th>\n",
       "      <th>Latitude</th>\n",
       "      <th>Longitude</th>\n",
       "      <th>Heating DB 99.6%</th>\n",
       "      <th>Heating DB 99%</th>\n",
       "      <th>...</th>\n",
       "      <th>Heating DB 99.6% - EPW</th>\n",
       "      <th>Heating DB 99% - EPW</th>\n",
       "      <th>Cooling DB 0.4% - EPW</th>\n",
       "      <th>Cooling DB 1% - EPW</th>\n",
       "      <th>Region_number</th>\n",
       "      <th>Region</th>\n",
       "      <th>delta - Heating DB 99.6%</th>\n",
       "      <th>delta - Heating DB 99%</th>\n",
       "      <th>delta - Cooling DB 0.4%</th>\n",
       "      <th>delta - Cooling DB 1%</th>\n",
       "    </tr>\n",
       "  </thead>\n",
       "  <tbody>\n",
       "    <tr>\n",
       "      <th>0</th>\n",
       "      <td>0</td>\n",
       "      <td>Capmon.CS-Saturna.Island BC CAN</td>\n",
       "      <td>['-123.1281', '48.77530', '178.0']</td>\n",
       "      <td>719140</td>\n",
       "      <td>TMYx</td>\n",
       "      <td>Canada</td>\n",
       "      <td>48.7753N</td>\n",
       "      <td>123.1281W</td>\n",
       "      <td>-4.6</td>\n",
       "      <td>-2.9</td>\n",
       "      <td>...</td>\n",
       "      <td>-30.9640</td>\n",
       "      <td>-23.300</td>\n",
       "      <td>22.0000</td>\n",
       "      <td>21.000</td>\n",
       "      <td>71</td>\n",
       "      <td>North America</td>\n",
       "      <td>26.3640</td>\n",
       "      <td>20.400</td>\n",
       "      <td>4.7000</td>\n",
       "      <td>3.800</td>\n",
       "    </tr>\n",
       "    <tr>\n",
       "      <th>1</th>\n",
       "      <td>1</td>\n",
       "      <td>Brockville-Tackaberry.Thousand.Islands.Rgnl.AP...</td>\n",
       "      <td>['-75.75160', '44.63540', '121.4']</td>\n",
       "      <td>711610</td>\n",
       "      <td>TMYx</td>\n",
       "      <td>Canada</td>\n",
       "      <td>44.6354N</td>\n",
       "      <td>75.7516W</td>\n",
       "      <td>-24.5</td>\n",
       "      <td>-21.1</td>\n",
       "      <td>...</td>\n",
       "      <td>-44.4820</td>\n",
       "      <td>-37.123</td>\n",
       "      <td>28.3964</td>\n",
       "      <td>26.700</td>\n",
       "      <td>71</td>\n",
       "      <td>North America</td>\n",
       "      <td>19.9820</td>\n",
       "      <td>16.023</td>\n",
       "      <td>1.3036</td>\n",
       "      <td>1.500</td>\n",
       "    </tr>\n",
       "    <tr>\n",
       "      <th>2</th>\n",
       "      <td>2</td>\n",
       "      <td>Cheticamp.CS NS CAN</td>\n",
       "      <td>['-60.94722', '46.64500', '44.0']</td>\n",
       "      <td>719590</td>\n",
       "      <td>TMYx</td>\n",
       "      <td>Canada</td>\n",
       "      <td>46.650N</td>\n",
       "      <td>60.950W</td>\n",
       "      <td>-16.0</td>\n",
       "      <td>-13.7</td>\n",
       "      <td>...</td>\n",
       "      <td>-32.2964</td>\n",
       "      <td>-30.800</td>\n",
       "      <td>23.5964</td>\n",
       "      <td>22.100</td>\n",
       "      <td>71</td>\n",
       "      <td>North America</td>\n",
       "      <td>16.2964</td>\n",
       "      <td>17.100</td>\n",
       "      <td>3.7036</td>\n",
       "      <td>3.800</td>\n",
       "    </tr>\n",
       "    <tr>\n",
       "      <th>3</th>\n",
       "      <td>3</td>\n",
       "      <td>Interlaken.AP BE CHE</td>\n",
       "      <td>['7.87030', '46.67220', '578.6']</td>\n",
       "      <td>67340</td>\n",
       "      <td>TMYx</td>\n",
       "      <td>Switzerland</td>\n",
       "      <td>46.6722N</td>\n",
       "      <td>7.8703E</td>\n",
       "      <td>-8.3</td>\n",
       "      <td>-6.6</td>\n",
       "      <td>...</td>\n",
       "      <td>-23.8964</td>\n",
       "      <td>-22.000</td>\n",
       "      <td>6.0000</td>\n",
       "      <td>5.000</td>\n",
       "      <td>67</td>\n",
       "      <td>Africa</td>\n",
       "      <td>15.5964</td>\n",
       "      <td>15.400</td>\n",
       "      <td>23.3000</td>\n",
       "      <td>22.300</td>\n",
       "    </tr>\n",
       "    <tr>\n",
       "      <th>4</th>\n",
       "      <td>4</td>\n",
       "      <td>Baccaro.Point NS CAN</td>\n",
       "      <td>['-65.47170', '43.45080', '5.7']</td>\n",
       "      <td>719200</td>\n",
       "      <td>TMYx</td>\n",
       "      <td>Canada</td>\n",
       "      <td>43.4508N</td>\n",
       "      <td>65.4717W</td>\n",
       "      <td>-12.4</td>\n",
       "      <td>-10.2</td>\n",
       "      <td>...</td>\n",
       "      <td>-27.5892</td>\n",
       "      <td>-21.000</td>\n",
       "      <td>24.2000</td>\n",
       "      <td>22.341</td>\n",
       "      <td>71</td>\n",
       "      <td>North America</td>\n",
       "      <td>15.1892</td>\n",
       "      <td>10.800</td>\n",
       "      <td>-4.2000</td>\n",
       "      <td>-3.441</td>\n",
       "    </tr>\n",
       "  </tbody>\n",
       "</table>\n",
       "<p>5 rows × 32 columns</p>\n",
       "</div>"
      ],
      "text/plain": [
       "   level_0                                      Location Name  \\\n",
       "0        0                    Capmon.CS-Saturna.Island BC CAN   \n",
       "1        1  Brockville-Tackaberry.Thousand.Islands.Rgnl.AP...   \n",
       "2        2                                Cheticamp.CS NS CAN   \n",
       "3        3                               Interlaken.AP BE CHE   \n",
       "4        4                               Baccaro.Point NS CAN   \n",
       "\n",
       "                          Coordinates     WMO last_year      Country  \\\n",
       "0  ['-123.1281', '48.77530', '178.0']  719140      TMYx       Canada   \n",
       "1  ['-75.75160', '44.63540', '121.4']  711610      TMYx       Canada   \n",
       "2   ['-60.94722', '46.64500', '44.0']  719590      TMYx       Canada   \n",
       "3    ['7.87030', '46.67220', '578.6']   67340      TMYx  Switzerland   \n",
       "4    ['-65.47170', '43.45080', '5.7']  719200      TMYx       Canada   \n",
       "\n",
       "   Latitude  Longitude  Heating DB 99.6%  Heating DB 99%  ...  \\\n",
       "0  48.7753N  123.1281W              -4.6            -2.9  ...   \n",
       "1  44.6354N   75.7516W             -24.5           -21.1  ...   \n",
       "2   46.650N    60.950W             -16.0           -13.7  ...   \n",
       "3  46.6722N    7.8703E              -8.3            -6.6  ...   \n",
       "4  43.4508N   65.4717W             -12.4           -10.2  ...   \n",
       "\n",
       "   Heating DB 99.6% - EPW  Heating DB 99% - EPW  Cooling DB 0.4% - EPW  \\\n",
       "0                -30.9640               -23.300                22.0000   \n",
       "1                -44.4820               -37.123                28.3964   \n",
       "2                -32.2964               -30.800                23.5964   \n",
       "3                -23.8964               -22.000                 6.0000   \n",
       "4                -27.5892               -21.000                24.2000   \n",
       "\n",
       "   Cooling DB 1% - EPW  Region_number         Region  \\\n",
       "0               21.000             71  North America   \n",
       "1               26.700             71  North America   \n",
       "2               22.100             71  North America   \n",
       "3                5.000             67         Africa   \n",
       "4               22.341             71  North America   \n",
       "\n",
       "   delta - Heating DB 99.6%  delta - Heating DB 99%  delta - Cooling DB 0.4%  \\\n",
       "0                   26.3640                  20.400                   4.7000   \n",
       "1                   19.9820                  16.023                   1.3036   \n",
       "2                   16.2964                  17.100                   3.7036   \n",
       "3                   15.5964                  15.400                  23.3000   \n",
       "4                   15.1892                  10.800                  -4.2000   \n",
       "\n",
       "   delta - Cooling DB 1%  \n",
       "0                  3.800  \n",
       "1                  1.500  \n",
       "2                  3.800  \n",
       "3                 22.300  \n",
       "4                 -3.441  \n",
       "\n",
       "[5 rows x 32 columns]"
      ]
     },
     "execution_count": 60,
     "metadata": {},
     "output_type": "execute_result"
    }
   ],
   "source": [
    "df = pd.read_csv('All_Results_TMYx_small.csv', index_col=0) \n",
    "df"
   ]
  },
  {
   "cell_type": "code",
   "execution_count": 48,
   "id": "dd4ca70e",
   "metadata": {},
   "outputs": [
    {
     "data": {
      "text/plain": [
       "'48.7753N'"
      ]
     },
     "execution_count": 48,
     "metadata": {},
     "output_type": "execute_result"
    }
   ],
   "source": [
    "lat = df['Latitude'][0]\n",
    "lat"
   ]
  },
  {
   "cell_type": "code",
   "execution_count": 45,
   "id": "3cb10c18",
   "metadata": {},
   "outputs": [
    {
     "data": {
      "text/plain": [
       "'N'"
      ]
     },
     "execution_count": 45,
     "metadata": {},
     "output_type": "execute_result"
    }
   ],
   "source": [
    "lat[-1]"
   ]
  },
  {
   "cell_type": "code",
   "execution_count": 51,
   "id": "1bf4c620",
   "metadata": {},
   "outputs": [
    {
     "data": {
      "text/plain": [
       "'123.1281W'"
      ]
     },
     "execution_count": 51,
     "metadata": {},
     "output_type": "execute_result"
    }
   ],
   "source": [
    "lon = df['Longitude'][0]\n",
    "lon"
   ]
  },
  {
   "cell_type": "code",
   "execution_count": 46,
   "id": "ecc7537a",
   "metadata": {},
   "outputs": [
    {
     "data": {
      "text/plain": [
       "'48.7753'"
      ]
     },
     "execution_count": 46,
     "metadata": {},
     "output_type": "execute_result"
    }
   ],
   "source": [
    "lat[0:len(lat)-1]"
   ]
  },
  {
   "cell_type": "code",
   "execution_count": 54,
   "id": "3be4e54e",
   "metadata": {},
   "outputs": [
    {
     "data": {
      "text/plain": [
       "(48.7753, -123.1281)"
      ]
     },
     "execution_count": 54,
     "metadata": {},
     "output_type": "execute_result"
    }
   ],
   "source": [
    "dir_lat = lat[-1]\n",
    "latVal = lat[0:len(lat)-1]\n",
    "latVal = float(latVal)\n",
    "dir_lon = lon[-1]\n",
    "lonVal = float(lon[0:len(lon)-1])\n",
    "\n",
    "if dir_lat == 'S':\n",
    "    latValDir = latVal*-1\n",
    "else:\n",
    "    latValDir=latVal\n",
    "if dir_lon == 'W':\n",
    "    lonValDir= lonVal*-1\n",
    "else:\n",
    "    lonValDir = lonVal\n",
    "latValDir,lonValDir"
   ]
  },
  {
   "cell_type": "code",
   "execution_count": 55,
   "id": "839ac6d7",
   "metadata": {},
   "outputs": [],
   "source": [
    "## Read in an EPW file to a Pandas dataframe\n",
    "def readNOAA_DesignDay(df):\n",
    "    htg_996= df['Temperature'].quantile(q=0.004)\n",
    "    htg_990= df['Temperature'].quantile(q=0.010)\n",
    "    clg_004= df['Temperature'].quantile(q=0.996)\n",
    "    clg_010= df['Temperature'].quantile(q=0.99)\n",
    "    return htg_996,htg_990,clg_004,clg_010"
   ]
  },
  {
   "cell_type": "code",
   "execution_count": 56,
   "id": "862c12e3",
   "metadata": {},
   "outputs": [],
   "source": [
    "def getDDFromNOAA(lat,lon,rad=10,years=10):\n",
    "    stations = wp.NOAA.findStation(centre = [lat, lon], radius = rad, unit = 'km')\n",
    "    startYear =stations['BEGIN'][0].year\n",
    "    endYear = stations['END'][0].year\n",
    "    newStartYear  = endYear-years\n",
    "    if startYear > newStartYear:\n",
    "        newStartYear = startYear\n",
    "    if stations.shape[0] > 0:\n",
    "        id_loc = stations.index.astype('str')[0]\n",
    "    else:\n",
    "        id_loc = None\n",
    "    if id_loc is not None:\n",
    "        raw_data = wp.NOAA.getNOAA(ID = id_loc, yearStart = newStartYear, yearEnd = endYear)\n",
    "        df = raw_data[raw_data.Temperature != 999.9]\n",
    "    else:\n",
    "        df = None\n",
    "    return df"
   ]
  },
  {
   "cell_type": "code",
   "execution_count": 57,
   "id": "f7735162",
   "metadata": {},
   "outputs": [
    {
     "name": "stdout",
     "output_type": "stream",
     "text": [
      "Loading info local backup from C:\\ProgramData\\Anaconda3\\lib\\site-packages\\windpy-0.3.0-py3.9.egg\\windpy\\NOAA\\tempdata\\isd-history.txt\n",
      "Waiting for response from NOAA API endpoint\n",
      "Response received\n"
     ]
    },
    {
     "data": {
      "text/html": [
       "<div>\n",
       "<style scoped>\n",
       "    .dataframe tbody tr th:only-of-type {\n",
       "        vertical-align: middle;\n",
       "    }\n",
       "\n",
       "    .dataframe tbody tr th {\n",
       "        vertical-align: top;\n",
       "    }\n",
       "\n",
       "    .dataframe thead th {\n",
       "        text-align: right;\n",
       "    }\n",
       "</style>\n",
       "<table border=\"1\" class=\"dataframe\">\n",
       "  <thead>\n",
       "    <tr style=\"text-align: right;\">\n",
       "      <th></th>\n",
       "      <th>WindDir</th>\n",
       "      <th>WindSpeed</th>\n",
       "      <th>SeaLevelPressure</th>\n",
       "      <th>Temperature</th>\n",
       "      <th>DewPointTemp</th>\n",
       "      <th>CloudHgt</th>\n",
       "      <th>Visibility</th>\n",
       "      <th>OC1_0</th>\n",
       "      <th>MW1_0</th>\n",
       "      <th>AJ1_0</th>\n",
       "      <th>RH1_2</th>\n",
       "    </tr>\n",
       "  </thead>\n",
       "  <tbody>\n",
       "    <tr>\n",
       "      <th>count</th>\n",
       "      <td>102590.000000</td>\n",
       "      <td>102590.000000</td>\n",
       "      <td>102590.000000</td>\n",
       "      <td>102590.000000</td>\n",
       "      <td>102590.000000</td>\n",
       "      <td>102590.0</td>\n",
       "      <td>102590.0</td>\n",
       "      <td>0.0</td>\n",
       "      <td>0.0</td>\n",
       "      <td>0.0</td>\n",
       "      <td>0.0</td>\n",
       "    </tr>\n",
       "    <tr>\n",
       "      <th>mean</th>\n",
       "      <td>261.520090</td>\n",
       "      <td>57.607255</td>\n",
       "      <td>1029.910593</td>\n",
       "      <td>11.059104</td>\n",
       "      <td>10.006719</td>\n",
       "      <td>99999.0</td>\n",
       "      <td>999999.0</td>\n",
       "      <td>NaN</td>\n",
       "      <td>NaN</td>\n",
       "      <td>NaN</td>\n",
       "      <td>NaN</td>\n",
       "    </tr>\n",
       "    <tr>\n",
       "      <th>std</th>\n",
       "      <td>211.485147</td>\n",
       "      <td>224.750525</td>\n",
       "      <td>344.468069</td>\n",
       "      <td>5.169946</td>\n",
       "      <td>54.075326</td>\n",
       "      <td>0.0</td>\n",
       "      <td>0.0</td>\n",
       "      <td>NaN</td>\n",
       "      <td>NaN</td>\n",
       "      <td>NaN</td>\n",
       "      <td>NaN</td>\n",
       "    </tr>\n",
       "    <tr>\n",
       "      <th>min</th>\n",
       "      <td>1.000000</td>\n",
       "      <td>0.000000</td>\n",
       "      <td>980.100000</td>\n",
       "      <td>-9.100000</td>\n",
       "      <td>-16.500000</td>\n",
       "      <td>99999.0</td>\n",
       "      <td>999999.0</td>\n",
       "      <td>NaN</td>\n",
       "      <td>NaN</td>\n",
       "      <td>NaN</td>\n",
       "      <td>NaN</td>\n",
       "    </tr>\n",
       "    <tr>\n",
       "      <th>25%</th>\n",
       "      <td>170.000000</td>\n",
       "      <td>1.500000</td>\n",
       "      <td>1012.700000</td>\n",
       "      <td>7.300000</td>\n",
       "      <td>4.400000</td>\n",
       "      <td>99999.0</td>\n",
       "      <td>999999.0</td>\n",
       "      <td>NaN</td>\n",
       "      <td>NaN</td>\n",
       "      <td>NaN</td>\n",
       "      <td>NaN</td>\n",
       "    </tr>\n",
       "    <tr>\n",
       "      <th>50%</th>\n",
       "      <td>226.000000</td>\n",
       "      <td>3.100000</td>\n",
       "      <td>1016.800000</td>\n",
       "      <td>10.700000</td>\n",
       "      <td>7.600000</td>\n",
       "      <td>99999.0</td>\n",
       "      <td>999999.0</td>\n",
       "      <td>NaN</td>\n",
       "      <td>NaN</td>\n",
       "      <td>NaN</td>\n",
       "      <td>NaN</td>\n",
       "    </tr>\n",
       "    <tr>\n",
       "      <th>75%</th>\n",
       "      <td>300.000000</td>\n",
       "      <td>6.100000</td>\n",
       "      <td>1021.100000</td>\n",
       "      <td>14.600000</td>\n",
       "      <td>10.600000</td>\n",
       "      <td>99999.0</td>\n",
       "      <td>999999.0</td>\n",
       "      <td>NaN</td>\n",
       "      <td>NaN</td>\n",
       "      <td>NaN</td>\n",
       "      <td>NaN</td>\n",
       "    </tr>\n",
       "    <tr>\n",
       "      <th>max</th>\n",
       "      <td>999.000000</td>\n",
       "      <td>999.900000</td>\n",
       "      <td>9999.900000</td>\n",
       "      <td>31.400000</td>\n",
       "      <td>999.900000</td>\n",
       "      <td>99999.0</td>\n",
       "      <td>999999.0</td>\n",
       "      <td>NaN</td>\n",
       "      <td>NaN</td>\n",
       "      <td>NaN</td>\n",
       "      <td>NaN</td>\n",
       "    </tr>\n",
       "  </tbody>\n",
       "</table>\n",
       "</div>"
      ],
      "text/plain": [
       "             WindDir      WindSpeed  SeaLevelPressure    Temperature  \\\n",
       "count  102590.000000  102590.000000     102590.000000  102590.000000   \n",
       "mean      261.520090      57.607255       1029.910593      11.059104   \n",
       "std       211.485147     224.750525        344.468069       5.169946   \n",
       "min         1.000000       0.000000        980.100000      -9.100000   \n",
       "25%       170.000000       1.500000       1012.700000       7.300000   \n",
       "50%       226.000000       3.100000       1016.800000      10.700000   \n",
       "75%       300.000000       6.100000       1021.100000      14.600000   \n",
       "max       999.000000     999.900000       9999.900000      31.400000   \n",
       "\n",
       "        DewPointTemp  CloudHgt  Visibility  OC1_0  MW1_0  AJ1_0  RH1_2  \n",
       "count  102590.000000  102590.0    102590.0    0.0    0.0    0.0    0.0  \n",
       "mean       10.006719   99999.0    999999.0    NaN    NaN    NaN    NaN  \n",
       "std        54.075326       0.0         0.0    NaN    NaN    NaN    NaN  \n",
       "min       -16.500000   99999.0    999999.0    NaN    NaN    NaN    NaN  \n",
       "25%         4.400000   99999.0    999999.0    NaN    NaN    NaN    NaN  \n",
       "50%         7.600000   99999.0    999999.0    NaN    NaN    NaN    NaN  \n",
       "75%        10.600000   99999.0    999999.0    NaN    NaN    NaN    NaN  \n",
       "max       999.900000   99999.0    999999.0    NaN    NaN    NaN    NaN  "
      ]
     },
     "execution_count": 57,
     "metadata": {},
     "output_type": "execute_result"
    }
   ],
   "source": [
    "#st = getDDFromNOAA(29.794857,-95.81653)\n",
    "st = getDDFromNOAA(latValDir,lonValDir)\n",
    "st.describe()"
   ]
  },
  {
   "cell_type": "code",
   "execution_count": 58,
   "id": "ee3274d1",
   "metadata": {},
   "outputs": [
    {
     "data": {
      "text/plain": [
       "<AxesSubplot:xlabel='Date'>"
      ]
     },
     "execution_count": 58,
     "metadata": {},
     "output_type": "execute_result"
    },
    {
     "data": {
      "image/png": "[encoded data removed]",
      "text/plain": [
       "<Figure size 432x288 with 1 Axes>"
      ]
     },
     "metadata": {
      "needs_background": "light"
     },
     "output_type": "display_data"
    }
   ],
   "source": [
    "st['Temperature'].plot()"
   ]
  },
  {
   "cell_type": "code",
   "execution_count": 59,
   "id": "521c3552",
   "metadata": {},
   "outputs": [
    {
     "data": {
      "text/plain": [
       "(-2.0, -0.4, 24.664400000000022, 23.4)"
      ]
     },
     "execution_count": 59,
     "metadata": {},
     "output_type": "execute_result"
    }
   ],
   "source": [
    "htg_996,htg_990,clg_004,clg_010 = readNOAA_DesignDay(st)\n",
    "htg_996,htg_990,clg_004,clg_010"
   ]
  },
  {
   "cell_type": "code",
   "execution_count": null,
   "id": "2439e765",
   "metadata": {},
   "outputs": [],
   "source": [
    "s_htg_996_epw= []\n",
    "s_htg_990_epw= []\n",
    "s_clg_004_epw= []\n",
    "s_clg_010_epw= []\n",
    "\n",
    "for index in df.index:\n",
    "    lat = df['Latitude'][0]\n",
    "    lon = df['Longitude'][0]\n",
    "    dir_lat = lat[-1]\n",
    "    latVal = float(lat[0:len(lat)-1])\n",
    "    dir_lon = lon[-1]\n",
    "    lonVal = float(lon[0:len(lon)-1])\n",
    "    if dir_lat == 'S':\n",
    "        latValDir = latVal*-1\n",
    "    else:\n",
    "        latValDir=latVal\n",
    "    if dir_lon == 'W':\n",
    "        lonValDir= lonVal*-1\n",
    "    else:\n",
    "        lonValDir = lonVal\n",
    "    \n",
    "    htg_996,htg_990,clg_004,clg_010 = readEPW_DesignDay(path.join('downloads_EPW/',epwpath))\n",
    "    s_htg_996_epw.append(htg_996)\n",
    "    s_htg_990_epw.append(htg_990)\n",
    "    s_clg_004_epw.append(clg_004)\n",
    "    s_clg_010_epw.append(clg_010)"
   ]
  }
 ],
 "metadata": {
  "kernelspec": {
   "display_name": "Python 3 (ipykernel)",
   "language": "python",
   "name": "python3"
  },
  "language_info": {
   "codemirror_mode": {
    "name": "ipython",
    "version": 3
   },
   "file_extension": ".py",
   "mimetype": "text/x-python",
   "name": "python",
   "nbconvert_exporter": "python",
   "pygments_lexer": "ipython3",
   "version": "3.9.7"
  }
 },
 "nbformat": 4,
 "nbformat_minor": 5
}
