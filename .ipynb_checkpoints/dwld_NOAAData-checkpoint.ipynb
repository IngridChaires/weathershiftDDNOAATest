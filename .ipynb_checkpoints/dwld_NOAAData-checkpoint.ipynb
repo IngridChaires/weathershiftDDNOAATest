{
 "cells": [
  {
   "cell_type": "code",
   "execution_count": null,
   "id": "b81165fa",
   "metadata": {},
   "outputs": [],
   "source": [
    "import pandas as pd\n",
    "import windpy as wp"
   ]
  },
  {
   "cell_type": "code",
   "execution_count": null,
   "id": "f7207254",
   "metadata": {},
   "outputs": [],
   "source": [
    "lat = 29.794857\n",
    "lon = -95.81653\n",
    "stations = wp.NOAA.findStation(centre = [lat, lon], radius = 10, unit = 'km')\n",
    "stations"
   ]
  },
  {
   "cell_type": "code",
   "execution_count": null,
   "id": "e15d978a",
   "metadata": {},
   "outputs": [],
   "source": [
    "stations.shape[0]"
   ]
  },
  {
   "cell_type": "code",
   "execution_count": null,
   "id": "792f6688",
   "metadata": {},
   "outputs": [],
   "source": [
    "if stations.shape[0] > 0:\n",
    "    id_loc = stations.index.astype('str')[0]\n",
    "    print(id_loc)\n",
    "else:\n",
    "    id_loc = None"
   ]
  },
  {
   "cell_type": "code",
   "execution_count": null,
   "id": "860c3485",
   "metadata": {},
   "outputs": [],
   "source": [
    "id_loc"
   ]
  },
  {
   "cell_type": "code",
   "execution_count": null,
   "id": "20a53451",
   "metadata": {},
   "outputs": [],
   "source": [
    "startYear =stations['BEGIN'][0].year\n",
    "endYear = stations['END'][0].year"
   ]
  },
  {
   "cell_type": "code",
   "execution_count": null,
   "id": "c6337142",
   "metadata": {},
   "outputs": [],
   "source": [
    "raw_data = wp.NOAA.getNOAA(ID = id_loc, yearStart = 2011, yearEnd = 2022)\n",
    "raw_data.describe()"
   ]
  },
  {
   "cell_type": "code",
   "execution_count": null,
   "id": "f27025e5",
   "metadata": {},
   "outputs": [],
   "source": [
    "#check noaa data for temp errors\n",
    "df = raw_data[raw_data.Temperature != 999.9]\n",
    "df.describe()"
   ]
  },
  {
   "cell_type": "code",
   "execution_count": null,
   "id": "839ac6d7",
   "metadata": {},
   "outputs": [],
   "source": [
    "## Read in an EPW file to a Pandas dataframe\n",
    "def readNOAA_DesignDay(df):\n",
    "    htg_996= df['Temperature'].quantile(q=0.004)\n",
    "    htg_990= df['Temperature'].quantile(q=0.010)\n",
    "    clg_004= df['Temperature'].quantile(q=0.996)\n",
    "    clg_010= df['Temperature'].quantile(q=0.99)\n",
    "    return htg_996,htg_990,clg_004,clg_010"
   ]
  },
  {
   "cell_type": "code",
   "execution_count": null,
   "id": "f6b71723",
   "metadata": {},
   "outputs": [],
   "source": [
    "df['Temperature'].plot()"
   ]
  },
  {
   "cell_type": "code",
   "execution_count": null,
   "id": "53cb0dd1",
   "metadata": {},
   "outputs": [],
   "source": [
    "htg_996,htg_990,clg_004,clg_010 = readNOAA_DesignDay(df)\n",
    "htg_996,htg_990,clg_004,clg_010"
   ]
  },
  {
   "cell_type": "code",
   "execution_count": null,
   "id": "862c12e3",
   "metadata": {},
   "outputs": [],
   "source": [
    "def getDDFromNOAA(lat,lon,rad=10,years=10):\n",
    "    stations = wp.NOAA.findStation(centre = [lat, lon], radius = rad, unit = 'km')\n",
    "    if stations.shape[0] > 0:\n",
    "        id_loc = stations.index.astype('str')[0]\n",
    "    else:\n",
    "        id_loc = None\n",
    "    if id_loc is not None:\n",
    "        raw_data = wp.NOAA.getNOAA(ID = id_loc, yearStart = 2011, yearEnd = 2021)\n",
    "        df = raw_data[raw_data.Temperature != 999.9]\n",
    "    else:\n",
    "        df = None\n",
    "    return df"
   ]
  },
  {
   "cell_type": "code",
   "execution_count": null,
   "id": "f7735162",
   "metadata": {},
   "outputs": [],
   "source": [
    "st = getDDFromNOAA(29.794857,-95.81653)\n",
    "st.describe()\n",
    "#lat = 29.794857\n",
    "#lon = -95.81653"
   ]
  },
  {
   "cell_type": "code",
   "execution_count": null,
   "id": "ee3274d1",
   "metadata": {},
   "outputs": [],
   "source": [
    "st['Temperature'].plot()"
   ]
  },
  {
   "cell_type": "code",
   "execution_count": null,
   "id": "521c3552",
   "metadata": {},
   "outputs": [],
   "source": [
    "htg_996,htg_990,clg_004,clg_010 = readNOAA_DesignDay(st)\n",
    "htg_996,htg_990,clg_004,clg_010"
   ]
  },
  {
   "cell_type": "code",
   "execution_count": null,
   "id": "2439e765",
   "metadata": {},
   "outputs": [],
   "source": []
  }
 ],
 "metadata": {
  "kernelspec": {
   "display_name": "Python 3 (ipykernel)",
   "language": "python",
   "name": "python3"
  },
  "language_info": {
   "codemirror_mode": {
    "name": "ipython",
    "version": 3
   },
   "file_extension": ".py",
   "mimetype": "text/x-python",
   "name": "python",
   "nbconvert_exporter": "python",
   "pygments_lexer": "ipython3",
   "version": "3.9.7"
  }
 },
 "nbformat": 4,
 "nbformat_minor": 5
}
